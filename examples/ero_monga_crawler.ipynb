{
 "cells": [
  {
   "cell_type": "markdown",
   "metadata": {},
   "source": [
    "# ero monga auto download\n",
    "## http://doujinantena.com/list.php?category=circle&id=G%E3%81%B1%E3%82%93%E3%81%A0\n",
    "\n",
    "## 使用方法\n",
    "進入上述同人誌網頁，搜尋喜歡的關鍵字，複製網址，將最下方cell中url變數貼上新網址，在執行即可。\n",
    "不管搜尋到幾本都會一次載下來。(不要超過6位數即可)\n",
    "\n",
    "注意：記得要先依序執行過前面的cell"
   ]
  },
  {
   "cell_type": "markdown",
   "metadata": {},
   "source": [
    "### 創一個新的資料夾存放戰果"
   ]
  },
  {
   "cell_type": "code",
   "execution_count": 54,
   "metadata": {},
   "outputs": [],
   "source": [
    "#create a new folder called \"ero_monga\"\n",
    "import os\n",
    "os.makedirs('ero_monga1/', exist_ok=True)"
   ]
  },
  {
   "cell_type": "markdown",
   "metadata": {},
   "source": [
    "### 主要程式碼"
   ]
  },
  {
   "cell_type": "code",
   "execution_count": 55,
   "metadata": {
    "scrolled": false
   },
   "outputs": [],
   "source": [
    "import requests\n",
    "import json\n",
    "from bs4 import BeautifulSoup\n",
    "import os\n",
    "import math\n",
    "\n",
    "header_s = {\n",
    "    'Accept': 'text/html,application/xhtml+xml,application/xml;q=0.9,image/webp,image/apng,*/*;q=0.8',\n",
    "    'Accept-Encoding': 'gzip, deflate',\n",
    "    'Accept-Language': 'zh-TW,zh;q=0.9,en-US;q=0.8,en;q=0.7,zh-CN;q=0.6',\n",
    "    'Cache-Control': 'no-cache',\n",
    "    'Connection': 'keep-alive',\n",
    "    'Cookie': '__cfduid=d04f3627395888cb2cb1a06b950278cdb1509204699; _ga=GA1.2.814538910.1509204701; vsid=910vr2684476447815593; bafp=197e5f50-2658-11e8-966d-9fcf4011dbdb; _gid=GA1.2.510330799.1521944734; rireki=%2C8683a2891744a37acf07bc1dd58ce795%3A1521945897%2C2881956ad0598593a450c7349bae53a8%3A1521945073%2C9793738bb2898fc5bb80ef6a957b2807%3A1521945061%2Cccee0b961d08f8020c00270aa2bf1d12%3A1521945051%2Cc39ebbd18aaafbffe824fdf13950745c%3A1521945041%2Ca9343235790679444f500d10f3c3319b%3A1521945014%2C1b2357eba0be98109b956ffc3db72e5f%3A1521945011%2C8b399f2872b2fa76dd60b053121549ed%3A1521944976%2C6b2fd4d3006f1827ee90c894893f39d5%3A1521944969%2C536078fd0ad5296f66882755c414b871%3A1521944909%2C8d22b245313a4897c53977721ddcfbdc%3A1521944906%2C3d88c2342451662513aafd5feffd4e22%3A1521944903%2C7df8114125ab55bb390ba0195780064a%3A1521944893%2C0a453e21582e1d912f14e4db8094b988%3A1521944878%2Ce3002be4871ec82462d91968198ec477%3A1521944875%2C02ead0f02ecf6a3816d8dd3968c38c53%3A1521944844%2Cc07ba60009cf96544b3bf090533a7ad4%3A1521944829%2C45dd690f0e90663c177b1abe150a3fb3%3A1521944802%2C6d559c66943cbd39073e71f2d4450884%3A1521944799%2Cee2ddec4b840b498eedb111842508d54%3A1521944765%2C2147b7504285b12db8c5ab45d1be9973%3A1521944722%2C50e858be53c06867c606aec0e0ceb7a8%3A1521944709%2Cbb84759cd669ca2894e4080553b5cc31%3A1521655763%2C7d1e42696db1b9fd71802c861283fa20%3A1521655754%2C0c616de73196719cee85c90a28ad6fe6%3A1521655744%2C17280e298025c4110606853268b8a2c2%3A1521565395%2Cc8006259269820f4d7fb8c3aa20fb783%3A1521565377%2C6db1e9389b5a7c1893160886845c64b1%3A1521565335%2C2b5e8c36984060159b843f7015b83eb3%3A1521340327%2C4a2542bb1c0532c8f4b8f950562d2961%3A1521340308%2C89bb8c97eb83eabdfdf4b28dee0286e8%3A1521340271%2C011854cf7e5e945f95f21d85863394d7%3A1521340259%2C53fca1821865b4bcdc129fdfda293b8d%3A1521127288%2C73b29d30ac4be56929b6aaaf138c3392%3A1521127267%2Cbff4bbed5dcf67be42b2c65f6dd6224e%3A1520873534%2C295f4c04690b0c733d1286ede258b2dd%3A1520708891%2C8a24f64738e5143c633eb605ee06dce6%3A1520708888%2Ca5ed1c465f3f385dda8f57f0621a6df4%3A1520624670%2Cdcd636949c89a23acebec83964f7365a%3A1520624655%2C1b34934896e9ac664b146338317fe711%3A1520434273%2C30da933adb6d9a2fdd51f2d725c1ad04%3A1520361984%2Cf54b90bc0b349119b64b78cdd52d6226%3A1520361969%2Cd57438d3184cb57f724891ddd5608a0b%3A1520361962%2C89073acd236f738e2216caeafa1a2d62%3A1520361953%2C69e091a20c4833e2e0203d0199b19b73%3A1520361752%2C8309a0ef3d52fb84c13614e60951aca8%3A1520361737%2C1821262c8f4a614428834983a2c6f850%3A1520361457%2Ce873bc3a3dd555e4e5fe08b9eb41da4c%3A1520361446%2Cd9cd49e52517e5516b4e19a3a1b09031%3A1520132089%2Cd23a287faeca4958427aeb54dd60ffb5%3A1521945954; _gat=1',\n",
    "    'Host': 'doujinantena.com',\n",
    "    'Pragma': 'no-cache',\n",
    "    'Referer': 'http://doujinantena.com/list.php?category=circle&id=G%E3%81%B1%E3%82%93%E3%81%A0',\n",
    "    'Upgrade-Insecure-Requests': '1',\n",
    "    'User-Agent': 'Mozilla/5.0 (Windows NT 10.0; Win64; x64) AppleWebKit/537.36 (KHTML, like Gecko) Chrome/65.0.3325.181 Safari/537.36'\n",
    "}\n",
    "\n",
    "def get_links(url, header_s):\n",
    "    result_list = []\n",
    "    res = requests.get(url, headers=header_s)\n",
    "    res.encoding = 'utf-8'\n",
    "    soup1 = BeautifulSoup(res.text, \"lxml\")\n",
    "    monga_num = int(re.findall('全(\\d{,6})冊', soup1.select_one('#maincontent .resultbooks').text)[0])\n",
    "    print(\"total monga num = %s\"%monga_num)\n",
    "    page_num = math.ceil(monga_num/10)\n",
    "    for num in range(1, page_num+1):\n",
    "        try:\n",
    "            real_url = url + '&p=' + str(num)\n",
    "            res = requests.get(real_url, headers=header_s)\n",
    "            soup = BeautifulSoup(res.text, \"lxml\")\n",
    "            select_list = soup.select('.listtype-a ul li a ')\n",
    "            link_num = len(select_list)\n",
    "            print(\"link_num = \"+str(link_num))\n",
    "            for l_num in range(link_num):\n",
    "                dl1_str = soup.select('.listtype-a ul li a ')[l_num]['href'].replace(\"page\", \"dl1\")\n",
    "                result_list.append(dl1_str)\n",
    "        except:\n",
    "            print(\"wrong url\")\n",
    "            break\n",
    "    print(\"total links num = \"+str(len(result_list)))\n",
    "    return result_list\n",
    "\n",
    "\n",
    "header_s1 = {\n",
    "    'Accept': 'text/html,application/xhtml+xml,application/xml;q=0.9,image/webp,image/apng,*/*;q=0.8',\n",
    "    'Accept-Encoding': 'gzip, deflate',\n",
    "    'Accept-Language': 'zh-TW,zh;q=0.9,en-US;q=0.8,en;q=0.7,zh-CN;q=0.6',\n",
    "    'Cache-Control': 'no-cache',\n",
    "    'Connection': 'keep-alive',\n",
    "    'Cookie': '__cfduid=d04f3627395888cb2cb1a06b950278cdb1509204699; _ga=GA1.2.814538910.1509204701; vsid=910vr2684476447815593; bafp=197e5f50-2658-11e8-966d-9fcf4011dbdb; _gid=GA1.2.510330799.1521944734',\n",
    "    'Host': 'cdn.doujinantena.com',\n",
    "    'Pragma': 'no-cache',\n",
    "    'Upgrade-Insecure-Requests': '1',\n",
    "    'User-Agent': 'Mozilla/5.0 (Windows NT 10.0; Win64; x64) AppleWebKit/537.36 (KHTML, like Gecko) Chrome/65.0.3325.181 Safari/537.36'\n",
    "}\n",
    "\n",
    "def download_a_monga(imgs_url, header_s1):\n",
    "    res = requests.get(imgs_url, headers=header_s1)\n",
    "    res.encoding = \"UTF-8\"\n",
    "    soup = BeautifulSoup(res.text, \"lxml\")\n",
    "    title = soup.select_one('head title').text\n",
    "    os.makedirs('ero_monga1/'+title, exist_ok=True)\n",
    "    select_list = soup.select('#maincontent a img[src*=\"http://cdn.doujinantena.com/contents_jpg/\"]')\n",
    "    img_num = len(select_list)\n",
    "    for num in range(0, img_num):\n",
    "        filename = 'ero_monga1/'+title+'/p_'+str(num)+'.jpg'\n",
    "        img_url = select_list[num]['src']\n",
    "        img_data = requests.get(img_url, headers=header_s1).content\n",
    "        with open(filename, 'wb') as handler:\n",
    "            handler.write(img_data)\n",
    "    \n",
    "    print(\"[INFO]Done Download: \"+title)\n",
    "\n",
    "def download_mongas(url, header_s, header_s1):\n",
    "    url_list = get_links(url, header_s)\n",
    "    imgs_url_list = []\n",
    "    for item in url_list:\n",
    "        imgs_url_list.append('http://doujinantena.com/'+item)\n",
    "    print('length of imgs_url_list = %s'%str(len(imgs_url_list)))\n",
    "    for item in imgs_url_list: print(item)\n",
    "\n",
    "    for num in range(len(imgs_url_list)):\n",
    "        print(\"[\"+str(num+1)+\"]\")\n",
    "        download_a_monga(imgs_url_list[num], header_s1)\n",
    "    \n",
    "    print('download complete! total downloaded monga number = %s'%str(len(imgs_url_list)))\n",
    "    \n"
   ]
  },
  {
   "cell_type": "markdown",
   "metadata": {},
   "source": [
    "### 開始下載囉\n",
    "此程式會自動創新資料夾並以漫畫名取名，下載的圖片也會依頁數命名"
   ]
  },
  {
   "cell_type": "code",
   "execution_count": 56,
   "metadata": {
    "scrolled": true
   },
   "outputs": [
    {
     "name": "stdout",
     "output_type": "stream",
     "text": [
      "total monga num = 22\n",
      "link_num = 10\n",
      "link_num = 10\n",
      "link_num = 2\n",
      "total links num = 22\n",
      "length of imgs_url_list = 22\n",
      "http://doujinantena.com/dl1.php?id=ce97efa112664965ddfb144fd5e667e3\n",
      "http://doujinantena.com/dl1.php?id=d75c652f21fe85f4377534af3be61d3d\n",
      "http://doujinantena.com/dl1.php?id=bcf9c7502f5678d03eab4c51df8bf78d\n",
      "http://doujinantena.com/dl1.php?id=6894cf633a419ae2246e4c034126fa28\n",
      "http://doujinantena.com/dl1.php?id=8f506aa852d2c8f60392ba48e6a6be23\n",
      "http://doujinantena.com/dl1.php?id=4d4ab2b6b554fc12d6a88ec93967478f\n",
      "http://doujinantena.com/dl1.php?id=67d4a64e3e5acdd1bedbc5b3d844eadf\n",
      "http://doujinantena.com/dl1.php?id=a93e32ea8f98bf6621c00f5ecc11c34a\n",
      "http://doujinantena.com/dl1.php?id=54c2876894640a3779e5a04f14b42a77\n",
      "http://doujinantena.com/dl1.php?id=3bc5eb9cd3da4f3ef5316673ce68bfc0\n",
      "http://doujinantena.com/dl1.php?id=b3e7ac3ef50a69986d9c84dd10a2b96c\n",
      "http://doujinantena.com/dl1.php?id=1ed27d148604411d25a2310f6c94e68b\n",
      "http://doujinantena.com/dl1.php?id=c140e23d2f36517083a6029d0be006b3\n",
      "http://doujinantena.com/dl1.php?id=ba435461be89d56adaf978df6751e125\n",
      "http://doujinantena.com/dl1.php?id=42841b7b8dc267688b7b6ba596de97f7\n",
      "http://doujinantena.com/dl1.php?id=5089f9ac4cb66a70d5339ed6d5125633\n",
      "http://doujinantena.com/dl1.php?id=0c739780754219983da5e3132b2fbd98\n",
      "http://doujinantena.com/dl1.php?id=6f4cf88e9e71c4509e29bf61fc17ae32\n",
      "http://doujinantena.com/dl1.php?id=24a7c56d7ca04991df5d731410db397f\n",
      "http://doujinantena.com/dl1.php?id=9dc0593b9752b6f581fdea51a147e09f\n",
      "http://doujinantena.com/dl1.php?id=99d2b72bfd8c028304a099968c71fe1c\n",
      "http://doujinantena.com/dl1.php?id=94e7dda73c93295046d5d75ea0c96e68\n",
      "[1]\n",
      "[INFO]Done Download: [JACK-POT]監獄の女-同人あんてな\n",
      "[2]\n",
      "[INFO]Done Download: [ヌキダマリ]牝犬配信-同人あんてな\n",
      "[3]\n",
      "[INFO]Done Download: [Drawpnir]監獄楽園-同人あんてな\n",
      "[4]\n",
      "[INFO]Done Download: [レモンケーキ]裏生徒会へようこそ-同人あんてな\n",
      "[5]\n",
      "[INFO]Done Download: [C.N.P]花２ Its Beautiful Flower-同人あんてな\n",
      "[6]\n",
      "[INFO]Done Download: [サークル埒外]監獄プリズン。-同人あんてな\n",
      "[7]\n",
      "[INFO]Done Download: [ヌキダマリ]黄金尿意-同人あんてな\n",
      "[8]\n",
      "[INFO]Done Download: [シリカゲルタベル]天国と監獄～汚された副会長～-同人あんてな\n",
      "[9]\n",
      "[INFO]Done Download: [7センチ]花と尿意と膣内射精-同人あんてな\n",
      "[10]\n",
      "[INFO]Done Download: [Gぱんだ]学淫監獄-同人あんてな\n",
      "[11]\n",
      "[INFO]Done Download: [MAIDOLL]芽衣子の足下には変態が興奮している-同人あんてな\n",
      "[12]\n",
      "[INFO]Done Download: [C.N.P]It’s beautiful flower-同人あんてな\n",
      "[13]\n",
      "[INFO]Done Download: [茜しゅうへい堂]あの葡萄はすっぱいに違いない-同人あんてな\n",
      "[14]\n",
      "[INFO]Done Download: [世渡工場]ボクのどれい日記-同人あんてな\n",
      "[15]\n",
      "[INFO]Done Download: [来つ寝]会長には手を出すな!!-同人あんてな\n",
      "[16]\n",
      "[INFO]Done Download: [MAIDOLL]淫欲監獄-同人あんてな\n",
      "[17]\n",
      "[INFO]Done Download: [薄い本一人朗読会]監守奴隷-同人あんてな\n",
      "[18]\n",
      "[INFO]Done Download: [Garland]監獄に咲く華と花-同人あんてな\n",
      "[19]\n",
      "[INFO]Done Download: [エイトビート]姦獄志 催眠の計-同人あんてな\n",
      "[20]\n",
      "[INFO]Done Download: [ディオゲネスクラブ]淫獄学園-同人あんてな\n",
      "[21]\n",
      "[INFO]Done Download: [ROJIURA JACK]花＊花-同人あんてな\n",
      "[22]\n",
      "[INFO]Done Download: [ハイブリッド事務室]ハイブリッド通信vol.15-同人あんてな\n",
      "download complete! total downloaded monga number = 22\n"
     ]
    }
   ],
   "source": [
    "url = 'http://doujinantena.com/list.php?category=work&id=%E7%9B%A3%E7%8D%84%E5%AD%A6%E5%9C%92'\n",
    "download_mongas(url, header_s, header_s1)"
   ]
  },
  {
   "cell_type": "code",
   "execution_count": null,
   "metadata": {
    "collapsed": true
   },
   "outputs": [],
   "source": []
  }
 ],
 "metadata": {
  "kernelspec": {
   "display_name": "Python 3",
   "language": "python",
   "name": "python3"
  },
  "language_info": {
   "codemirror_mode": {
    "name": "ipython",
    "version": 3
   },
   "file_extension": ".py",
   "mimetype": "text/x-python",
   "name": "python",
   "nbconvert_exporter": "python",
   "pygments_lexer": "ipython3",
   "version": "3.6.4"
  }
 },
 "nbformat": 4,
 "nbformat_minor": 2
}
